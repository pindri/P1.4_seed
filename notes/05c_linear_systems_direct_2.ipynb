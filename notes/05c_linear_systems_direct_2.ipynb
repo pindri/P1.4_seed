{
 "cells": [
  {
   "cell_type": "markdown",
   "metadata": {},
   "source": [
    "# Direct methods for solving linear systems (homework)\n"
   ]
  },
  {
   "cell_type": "markdown",
   "metadata": {},
   "source": [
    "**Exercise 1 (on paper).** Let us consider the linear system $A\\mathbf{x} = \\mathbf{b}$ where\n",
    "\n",
    "$$\n",
    "  A = \n",
    "  \\begin{bmatrix}\n",
    "  \\epsilon & 1 & 2\\\\\n",
    "  1 & 3 & 1 \\\\\n",
    "  2 & 1 & 3 \\\\\n",
    "  \\end{bmatrix}.\n",
    "$$\n",
    "\n"
   ]
  },
  {
   "cell_type": "markdown",
   "metadata": {},
   "source": [
    "1) Find the range of values of $\\epsilon \\in \\mathbb{R}$ such that the matrix $A$ is symmetric and positive definite.\n",
    "**Suggestion**: use the *Sylvester's criterion* which states that  a symmetric matrix $A \\in \\mathbb{R}^{n \\times n}$ is positive definite if and only if all the main minors (The main minors of $A \\in \\mathbb{R}^{n \\times n}$ are the determinants of the submatrices $A_p = (a_{i,j})_{1 \\leq i, j \\leq p}$, $p = 1, ..., n$). of $A$ are positive.\n",
    "\n",
    "<span style=\"color:blue\">**Answer**:</span>\n",
    "$\\varepsilon \\gt \\frac{11}{8} $\n",
    "\n"
   ]
  },
  {
   "cell_type": "markdown",
   "metadata": {},
   "source": [
    "2) What factorization is more suitable for solving the linear system $A\\mathbf{x}=\\mathbf{b}$ for the case $\\epsilon=0$? Motivate the answer.\n",
    "\n",
    "<span style=\"color:blue\">**Answer**:</span>\n",
    " Cholesky factorization requires a positive definite matrix. Since $\\varepsilon = 0$ does not satisfy the condition at point 1, it cannot be performed. $LU$ factorization should be performed.\n",
    "\n"
   ]
  },
  {
   "cell_type": "markdown",
   "metadata": {},
   "source": [
    "3) Compute the ~~Cholesky~~ $LU$ factorization for the case $\\epsilon = 2$.\n",
    "\n",
    "\n",
    "<span style=\"color:blue\">**Answer**:</span>\n",
    "\n",
    "$$\n",
    "  A = LU = \n",
    "  \\begin{bmatrix}\n",
    "  1 & 0 & 0\\\\\n",
    "  1 & 1 & 0 \\\\\n",
    "  1 & 0 & 1 \\\\\n",
    "  \\end{bmatrix} \\cdot\n",
    "  \\begin{bmatrix}\n",
    "  2 & 1 & 2\\\\\n",
    "  0 & 5/2 & 0 \\\\\n",
    "  0 & 0 & 1 \\\\\n",
    "  \\end{bmatrix}.\n",
    "$$"
   ]
  },
  {
   "cell_type": "markdown",
   "metadata": {},
   "source": [
    "3.5) Compute the Cholesky $LU$ factorization $A = R^T R$ for the case $\\epsilon = 2$.\n",
    "\n",
    "<span style=\"color:blue\">**Answer**:</span>"
   ]
  },
  {
   "cell_type": "code",
   "execution_count": 40,
   "metadata": {},
   "outputs": [
    {
     "data": {
      "text/plain": [
       "array([[1.41421356e+00, 7.07106781e-01, 1.41421356e+00],\n",
       "       [0.00000000e+00, 1.58113883e+00, 1.12135832e-16],\n",
       "       [0.00000000e+00, 0.00000000e+00, 1.00000000e+00]])"
      ]
     },
     "execution_count": 40,
     "metadata": {},
     "output_type": "execute_result"
    }
   ],
   "source": [
    "%matplotlib inline\n",
    "import scipy.linalg\n",
    "\n",
    "A = array([[2,1,2], [1,3,1], [2,1,3]])\n",
    "\n",
    "R = scipy.linalg.cholesky(A)\n",
    "R"
   ]
  },
  {
   "cell_type": "code",
   "execution_count": 39,
   "metadata": {},
   "outputs": [
    {
     "data": {
      "text/plain": [
       "array([[2., 1., 2.],\n",
       "       [1., 3., 1.],\n",
       "       [2., 1., 3.]])"
      ]
     },
     "execution_count": 39,
     "metadata": {},
     "output_type": "execute_result"
    }
   ],
   "source": [
    "dot(U.transpose(), U)"
   ]
  },
  {
   "cell_type": "markdown",
   "metadata": {},
   "source": [
    "\n",
    "4) Given $\\mathbf{b} = (1,1,1)^T$, solve the linear system by using the Cholesky factorization computed at the previous point."
   ]
  },
  {
   "cell_type": "markdown",
   "metadata": {},
   "source": [
    "**Exercise 2 (on paper).** Let us consider the following matrix $A \\in \\mathbb R^{3 \\times 3}$ depending on the parameter $\\epsilon \\in \\mathbb R$:\n",
    "$$\n",
    "A =\n",
    "\\begin{bmatrix}\n",
    "1 & \\epsilon & -1 \\\\\n",
    "\\epsilon & \\frac{35}3 & 1 \\\\\n",
    "-1 & \\epsilon & 2 \\\\\n",
    "\\end{bmatrix}.\n",
    "$$\n",
    "\n",
    "\n",
    "\n",
    "1. Calculate the values of the parameter $\\epsilon \\in \\mathbb R$ for which the matrix $A$ is invertible (non singular).\n",
    "\n",
    "2. Calculate the Gauss factorization $LU$ of the matrix $A$ (when non singular) for a generic value of the parameter $\\epsilon \\in \\mathbb R$.\n",
    "\n",
    "3. Calculate the values of the parameter $\\epsilon \\in \\mathbb R$ for which the Gauss factorization $LU$ of the matrix $A$  (when non singular) exists and is unique.\n",
    "\n",
    "4. Set $\\epsilon = \\sqrt{\\frac{35}3}$ and use the pivoting technique to calculate the Gauss factorization $LU$ of the matrix $A$.\n",
    "\n",
    "5. For $\\epsilon=1$, the matrix $A$ is symmetric and positive definite. Calculate the corresponding Cholesky factorization of the matrix $A$, i.e. the upper triangular matrix with positive elements on the diagonal, say $R$, for which $A = R^T R$."
   ]
  }
 ],
 "metadata": {
  "anaconda-cloud": {},
  "kernelspec": {
   "display_name": "Python 3",
   "language": "python",
   "name": "python3"
  },
  "language_info": {
   "codemirror_mode": {
    "name": "ipython",
    "version": 3
   },
   "file_extension": ".py",
   "mimetype": "text/x-python",
   "name": "python",
   "nbconvert_exporter": "python",
   "pygments_lexer": "ipython3",
   "version": "3.7.0"
  }
 },
 "nbformat": 4,
 "nbformat_minor": 1
}
