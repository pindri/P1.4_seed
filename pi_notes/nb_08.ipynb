{
 "cells": [
  {
   "cell_type": "markdown",
   "metadata": {},
   "source": [
    "## Lesson 08"
   ]
  },
  {
   "cell_type": "markdown",
   "metadata": {},
   "source": [
    "Is there a best choice for the $x_i$ values of the Lagrange interpolation?\n",
    "\n",
    "We then showed that, with $f \\in C^{n+1} ([0,1])$:\n",
    "\n",
    "$$\n",
    "\\forall x \\in [0,1] \\exists \\xi \\in (x_0, x_n) \\, s.t. \\, |(f-\\mathcal{L}f)(x)| = |\\frac{1}{(n+1)!} f^{(n+1)}(\\xi) \\omega(x)|\n",
    "$$\n",
    "\n",
    "**Proof**: If $p(t)$ is the Lagrange intepolation of $f$\n",
    "\n",
    "$$\n",
    "G(t) = ( - f(t) +p(t)) \\omega (x) - ( -f(x) + p (x))\\omega (t)\n",
    "$$\n",
    "\n",
    "is a function with at most $n+2$ zeros. If $t \\ne x_i$ it has exactly $n+2$ zeros. In this case $\\omega (t) = (n+1)!$\n",
    "\n",
    "$$\n",
    "\\frac{d^{n+1}}{dt^{n+1}}G(t) = f^{(n+1)}(t) \\omega (x) - (f(x) - p (x))(n+1)!.\n",
    "$$\n",
    "\n",
    "This will have $2$ zeros, and for Rolle's theorem $\\exists \\xi \\in (a, b) |\\frac{d^{n+1}}{dt^{n+1}}G| = 0$.\n",
    "\n",
    "We recall that, by taking the maximum of the norm:\n",
    "\n",
    "$$\n",
    "||(f-\\mathcal{L}f)(x)||_{L^{\\infty}([0,1])} \\le \\frac{1}{(n+1)!}|| f^{(n+1)}||_{L^{\\infty}([0,1])} ||\\omega(x)||_{L^{\\infty}([0,1])}\n",
    "$$"
   ]
  },
  {
   "cell_type": "markdown",
   "metadata": {},
   "source": [
    "***Theorem 2***: Let $f$ be analytically extendible on a oval $O(a, b, R)$ with $R\\gt 0$. Let' s consider $f(x) \\rightarrow f(z)$ with $z\\in C$, with $f \\in C^{\\infty} (O(a, b, R))$. It follows that $||f^{n+1}||_{L^{\\infty}} \\le \\frac{(n+1)!}{R^{n+1}} ||f||_{L^{\\infty}(O(a, b, R))}$\n",
    "\n",
    "and by the previous theorem:\n",
    "\n",
    "$$\n",
    "||(f-\\mathcal{L}f)(x)||_{L^{\\infty}([a,b])} \\le ||f||_{L^{\\infty}(O(a, b, R))} ||\\omega(x)||_{L^{\\infty}}\\frac{1}{R^{n+1}}\\le ||f||_{L^{\\infty}(O(a, b, R))} \\frac{(|b-a|)^{n+1}}{R^{n+1}}\n",
    "$$\n",
    "\n",
    "The question is: I am increasing $n$, I am doing better? Will the error go to zero? If the function is smooth enough that I can do the $n+1$ derivative, we need to guarantee that $\\frac{|b-a|}{R} \\le 1$, or things will explode. Well, this is an upper bound, but does it really mean something? Yes, at the extreme values of the interval the interpolating function **does** explode."
   ]
  },
  {
   "cell_type": "markdown",
   "metadata": {},
   "source": [
    "***Def***: triangular infinte intepolation matrix."
   ]
  },
  {
   "cell_type": "code",
   "execution_count": null,
   "metadata": {},
   "outputs": [],
   "source": []
  }
 ],
 "metadata": {
  "kernelspec": {
   "display_name": "Python 3",
   "language": "python",
   "name": "python3"
  },
  "language_info": {
   "codemirror_mode": {
    "name": "ipython",
    "version": 3
   },
   "file_extension": ".py",
   "mimetype": "text/x-python",
   "name": "python",
   "nbconvert_exporter": "python",
   "pygments_lexer": "ipython3",
   "version": "3.7.0"
  }
 },
 "nbformat": 4,
 "nbformat_minor": 2
}
