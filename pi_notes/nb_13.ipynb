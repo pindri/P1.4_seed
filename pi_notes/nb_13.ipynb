{
 "cells": [
  {
   "cell_type": "markdown",
   "metadata": {},
   "source": [
    "## lesson 13"
   ]
  },
  {
   "cell_type": "markdown",
   "metadata": {},
   "source": [
    "The *conditioning* of a matrix is, for a symmetric definite positive matrix, a spectral quality. Note that, even with a quite low residual, you cannot assure accuracy, since the condition number can get huge."
   ]
  },
  {
   "cell_type": "markdown",
   "metadata": {},
   "source": [
    "**ITERATIVE METHODS**\n",
    "\n",
    "Preconditioners are usually related to physical characteristics of the system. Note that the factor $\\alpha_k$ can be a constant or not, but is is a number and so it cannot change the direction of the residual\n",
    "\n",
    "*Jacobi method*\n",
    "\n",
    "Is quite slow since, at every step, you do not exploit what you already computed. Each time you need to do the summation and you update just a single index: updating $x_i^{(k+1)}$ requires a sum over all the other indices.\n",
    "\n",
    "*Gauss-Seidel method*\n",
    "\n",
    "Is faster and better because it uses all the already computed $x_j^{(k+1)}$ to estimate $x_i^{(k+1)}$. It provides matrices that usually are not symmetrical and can have other problems such empty columns or so (this is a problem if you are dealing with an actual, physical system). \n",
    "\n",
    "*Gradient method*\n",
    "\n",
    "Is called *gradient* because the residual has the same direction of the gradient\n",
    "\n",
    "$$\n",
    "\\phi(x) = \\frac{1}{2}x^TAx - x^Tb\n",
    "$$\n",
    "\n",
    "$$\n",
    "\\nabla\\phi(x) = \\frac{1}{2}(A^T + A)x - b\n",
    "$$\n",
    "\n",
    "which, for a specific $k$ and for simmetric $A$ is $\\nabla\\phi(\\mathbf{x}) = A\\mathbf{x^{(k)}} - \\mathbf{b} = -\\mathbf{r^{(k)}}$. So the gradient method is basically a physical approach.\n",
    "\n",
    "*Demonstation of $\\alpha_k$*: the idea is that, even if we do not know the error, we can optimize it, exploiting what we know happens to the error from one step to another. "
   ]
  }
 ],
 "metadata": {
  "kernelspec": {
   "display_name": "Python 3",
   "language": "python",
   "name": "python3"
  },
  "language_info": {
   "codemirror_mode": {
    "name": "ipython",
    "version": 3
   },
   "file_extension": ".py",
   "mimetype": "text/x-python",
   "name": "python",
   "nbconvert_exporter": "python",
   "pygments_lexer": "ipython3",
   "version": "3.7.0"
  }
 },
 "nbformat": 4,
 "nbformat_minor": 2
}
