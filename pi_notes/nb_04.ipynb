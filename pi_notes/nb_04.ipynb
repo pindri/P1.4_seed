{
 "cells": [
  {
   "cell_type": "markdown",
   "metadata": {},
   "source": [
    "#### Lesson 04"
   ]
  },
  {
   "cell_type": "markdown",
   "metadata": {},
   "source": [
    "The Newton method can be seen as an approximation of the fixed-point method. The two main weak points are:\n",
    " - how to chose the starting point\n",
    " - if $f'(x_k)=0$ for some $k$, it blows up\n",
    "To deal with it you can solve a linearized version of the problem first, in order to get info on the possible solution. \n",
    "If we are dealing with a multi-dimensional problem we use $|J|$ instead of the first order derivative, so a determinant needs to be computed."
   ]
  },
  {
   "cell_type": "markdown",
   "metadata": {},
   "source": [
    "For the fixed point method we need to build a contraction. If we have $x \\in [a,b]$ then we need to use a $\\phi$ such that $\\phi (x) \\in [a,b]$.\n",
    "It resembles the Newton method, but it makes intersections with the line $y=x$ instead of $y=0$.\n",
    "Note that if you have a function $f(x)$ and you use the fixed point method, if different versions of the method cross at the same point $\\alpha$, then the two versions are equivalent."
   ]
  },
  {
   "cell_type": "markdown",
   "metadata": {},
   "source": [
    "We can use the Lipschitz property. Or we can use a stronger condition, but more practical.\n",
    "If\n",
    "\n",
    "$\\phi (x)$ is differentiable in $[a,b]$\n",
    "\n",
    "and\n",
    "\n",
    "exists $K<1$ such that $|\\phi ' (x)| \\lt k$ $\\forall x \\in [a,b]$\n",
    "\n",
    "then the $\\phi (x_k)$ series converges to $\\alpha$ for any initial guess."
   ]
  },
  {
   "cell_type": "markdown",
   "metadata": {},
   "source": [
    "The Newton method is characterized, by construction, by the condition $\\phi ' (x) = 0$, so it has a quadratic convergence.\n",
    "To do so you need to chose $\\phi (x) = x - f(x)/f'(x)$. Putting the Newton method in this frame removes the problem on the initial guess."
   ]
  },
  {
   "cell_type": "code",
   "execution_count": null,
   "metadata": {},
   "outputs": [],
   "source": []
  }
 ],
 "metadata": {
  "kernelspec": {
   "display_name": "Python 3",
   "language": "python",
   "name": "python3"
  },
  "language_info": {
   "codemirror_mode": {
    "name": "ipython",
    "version": 3
   },
   "file_extension": ".py",
   "mimetype": "text/x-python",
   "name": "python",
   "nbconvert_exporter": "python",
   "pygments_lexer": "ipython3",
   "version": "3.7.0"
  }
 },
 "nbformat": 4,
 "nbformat_minor": 2
}
