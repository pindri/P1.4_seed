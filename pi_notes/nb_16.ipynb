{
 "cells": [
  {
   "cell_type": "markdown",
   "metadata": {},
   "source": [
    "## NB 16 - iterative methods"
   ]
  },
  {
   "cell_type": "markdown",
   "metadata": {},
   "source": [
    "In Richardson method the $\\alpha_k$ is not a constant and can be seen as a n *accellerator*. It should be smaller than 1, or else there is no convergence (your spectral radious goes beyond the unity ball). The idea of the conjugate gradient method is to change the direction of the residual (remember that for the gradient method we obtained $\\nabla \\phi(x^k) = -\\mathbf{r^{(k)}}$: here we can scale but not redirect. "
   ]
  }
 ],
 "metadata": {
  "kernelspec": {
   "display_name": "Python 3",
   "language": "python",
   "name": "python3"
  },
  "language_info": {
   "codemirror_mode": {
    "name": "ipython",
    "version": 3
   },
   "file_extension": ".py",
   "mimetype": "text/x-python",
   "name": "python",
   "nbconvert_exporter": "python",
   "pygments_lexer": "ipython3",
   "version": "3.7.0"
  }
 },
 "nbformat": 4,
 "nbformat_minor": 2
}
