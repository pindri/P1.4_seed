{
 "cells": [
  {
   "cell_type": "markdown",
   "metadata": {},
   "source": [
    "## Lesson 06"
   ]
  },
  {
   "cell_type": "markdown",
   "metadata": {},
   "source": [
    "$\\phi$ is a contraction. We need to find out which convergence we can guarantee for the fixed point method. If $\\phi$ is twice differentiable on $[a,b]$, $\\phi ' (\\alpha) = 0$ and $\\phi ''(\\alpha) \\ne 0$ we have a quadratic convergence.\n",
    "\n",
    "If $|\\phi ' (\\alpha)| \\gt 1$ local convergence therem does not hold anymore, and usually the method does not converge. Notice that sometimes different functions can lead to different solutions (one identifies one fixed point, one another)."
   ]
  },
  {
   "cell_type": "markdown",
   "metadata": {},
   "source": [
    "The Newton method is a fixed point method. We can use its geometrical properties and build:\n",
    "\n",
    "$$\n",
    "\\phi(x) = x - \\frac{f(x)}{f'(x)}\n",
    "$$\n",
    "\n",
    "If $f$ is twice differentiable on $[a,b]$, $f ' (\\alpha) = 0$ and $f ''(\\alpha) \\ne 0$, for the fixed point properties, the Newton Methid converges to $\\alpha$. Moreover we have a quadratic convergence. This is not particularly useful from a practical point of view, but it guaranties a quadratic convergence.\n",
    "\n",
    "We may now want to relax the $f ''(\\alpha) \\ne 0$ condition. If $\\alpha$ is a zero of $f$, it has *multiplicity* $m$ if $f(\\alpha) = ... = f^{(m-1)}(\\alpha) = 0$ and $f^m \\ne 0$.\n",
    "\n",
    "Note that if $f ''(\\alpha) = 0$ then the convergence is linear, but you need to use the *adaptive* or *quasi-Newton method*."
   ]
  },
  {
   "cell_type": "markdown",
   "metadata": {},
   "source": [
    "If we keep the condition $|\\phi ' (\\alpha)| \\lt 1$, since you can show that $e^{(k+1)} = \\phi ' (\\xi ^{(k)})e^{(k)}$ we may hope for the error to go to zero. We do not know much about the error: how can we say that if $x^{(k+1)}-x^{(k)} $ then the error is small? In certain condition we can say that $|e^{(k)}| \\approx |x^{(k+1)}-x^{(k)}|$. Here the main problem is when the error happends to be (a lot) greater than the increment: it happends when $\\phi'(\\alpha) \\approx 1$. Newton Method provides a perfect transmission between the increment and the error, one more good reason to use it."
   ]
  },
  {
   "cell_type": "markdown",
   "metadata": {},
   "source": []
  }
 ],
 "metadata": {
  "kernelspec": {
   "display_name": "Python 3",
   "language": "python",
   "name": "python3"
  },
  "language_info": {
   "codemirror_mode": {
    "name": "ipython",
    "version": 3
   },
   "file_extension": ".py",
   "mimetype": "text/x-python",
   "name": "python",
   "nbconvert_exporter": "python",
   "pygments_lexer": "ipython3",
   "version": "3.7.0"
  }
 },
 "nbformat": 4,
 "nbformat_minor": 2
}
