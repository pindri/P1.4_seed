{
 "cells": [
  {
   "cell_type": "markdown",
   "metadata": {},
   "source": [
    "## Lesson 10 - linear systems, direct methods"
   ]
  },
  {
   "cell_type": "markdown",
   "metadata": {},
   "source": [
    "$LU$ decomposition is quite good, but is a direct method: you can do better in some cases. Eigenvalue computation is still quite difficult and it's growing in importance. \n",
    "\n",
    "Remember that *a factorization is forever*: once a matrix has been factorized, it can be used to solve for different $\\mathbf{b}$. \n",
    "\n",
    "When dealing with matrices, the condition number can be thought as the ratio between the maximum and the miminum eigenvalue. "
   ]
  }
 ],
 "metadata": {
  "kernelspec": {
   "display_name": "Python 3",
   "language": "python",
   "name": "python3"
  },
  "language_info": {
   "codemirror_mode": {
    "name": "ipython",
    "version": 3
   },
   "file_extension": ".py",
   "mimetype": "text/x-python",
   "name": "python",
   "nbconvert_exporter": "python",
   "pygments_lexer": "ipython3",
   "version": "3.7.0"
  }
 },
 "nbformat": 4,
 "nbformat_minor": 2
}
