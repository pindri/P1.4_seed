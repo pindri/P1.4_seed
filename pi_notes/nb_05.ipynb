{
 "cells": [
  {
   "cell_type": "markdown",
   "metadata": {},
   "source": [
    "## Lesson 05 - Best Approximation and Interpolation"
   ]
  },
  {
   "cell_type": "markdown",
   "metadata": {},
   "source": [
    "Assume we are in a **Banach Space** (Vector Space, normed and complete), where *normed* means that a distance is defined, *complete* means that any Cauchy succession converges to an element of the space. Being able to mesure is important where we deal with complicated spaces like the space of functions.\n",
    "\n",
    "$C^{\\circ}([0;1])$ is a prototype of a space. Sum and product are trivially defined (you just sum or scale the functions). We want do define a norm in this space. The more a space is complicated the more norms you can define (but not all are useful).\n",
    "\n",
    " 1. $||\\cdot|| : V \\rightarrow \\mathbb{R} \\bigcup \\{0\\}$\n",
    " 2. $||u|| = 0 \\iff u = 0$\n",
    " 3. $||\\alpha u|| = |\\alpha|||u||$\n",
    " 4. $||u + v|| \\le ||u|| + ||v||$\n",
    " \n",
    "If I take a closed interval I have:\n",
    "\n",
    "$||u||_{\\infty} := max_{x \\in [0;1]} |u(x)|$\n",
    "\n",
    "Where the $max$ should be a $sup$ if I have an open interval. So now I can measure distances:\n",
    "\n",
    "$d(u,v) := ||u-v||_{\\infty}$\n",
    "\n",
    "So I can say that two functions are close if they are close everywhere. I need this because I want to approximate difficult things such as function spaces."
   ]
  },
  {
   "cell_type": "markdown",
   "metadata": {},
   "source": [
    "**BEST APPROXIMATION** of $f$ in $V$ using $p \\in M \\subseteq V$ (I am trying to approximate a difficult space $V$ with an easier one $M$, which is a *closed* subspace of $V$).\n",
    "\n",
    "$P$ is b.a. of $f$ in $M \\iff ||p-f||_{V} \\le \\parallel q-f\\parallel _V$ $\\forall q\\in M$\n",
    "\n",
    "All we are going to do is, in disguise, construction and evaluation of the best approximation of a given problem.\n",
    "\n",
    "Let's suppose there exists a $p_2 \\ne p_1$ such that $ ||p_2-f||_{V} =  ||p_1-f||_{V} \\le ||q-f|| _V$ $\\forall q\\in M$.\n",
    "\n",
    "If the norm is *stricly convex*:\n",
    "\n",
    "$$\n",
    "||f|| = ||g|| = 1 \\implies|| \\theta f + (1-\\theta)g  || \\le 1\n",
    "$$\n",
    "\n",
    "then if you take $\\frac{1}{2} (f-p_1) + \\frac{1}{2} (f- p_2)$, then:\n",
    "\n",
    "$$\n",
    "||f-p|| = E = ||f-p_2|| \\lt \\frac{1}{2} ||f-p_1|| + \\frac{1}{2} ||f- p_2||\n",
    "$$\n",
    "\n",
    "which is absurd, and so the b.a. is unique."
   ]
  },
  {
   "cell_type": "markdown",
   "metadata": {},
   "source": [
    "Different approximation may be best depending on the norm you are using. So you sould to be sure that the norm you are using is, in fact, *stricly convex*. $\\mathscr{L}^1$ norm is."
   ]
  },
  {
   "cell_type": "markdown",
   "metadata": {},
   "source": [
    "We may try to use $M = \\mathbb{P}^n([0,1])$ and try to approximate our $V$ with polinomials.\n",
    "\n",
    "$p \\in \\mathbb{P}^n = span\\{x^i\\}_{i=0}^n\\iff \\{p^i\\}_{i=0}^n$ s.t. $p = p^i x^{(i)}$ where sum is implied."
   ]
  },
  {
   "cell_type": "markdown",
   "metadata": {},
   "source": [
    "**INTERPOLATION**\n",
    "\n",
    "$ C^{\\circ}([0;1]) \\ni f:[0,1] \\rightarrow \\mathbb{R}$\n",
    "\n",
    "We have $\\{x_i\\}_0^n$, $n+1$ distinct points ($x_0 \\lt ...\\lt x_n$). We want to find a polynomial $p \\in \\mathbb{P}^n $ s.t. $p(x_i) = f(x_i)$ $\\forall i = 0, ..., n$.\n",
    "\n",
    "The problem is well posed if you have $n+1$ points and want to find a polynomial of order $n$ (if you have $3$ points you use a parabola, a polinomial of order $2$).\n",
    "\n",
    "What I want to do is:\n",
    "\n",
    "$$\n",
    "p^i x^{(i)}_j = f(x_j)\n",
    "$$\n",
    "\n",
    "so we have a matrix $\\mathbf{B}p = F$ (which in coordinates is $B_{ji} = x_j^{(i)}$) which is called *Vandermonde matrix*, which is very nice but illed-conditioned: higher and higher powers, in $[0,1]$, mean getting more and more similar values, which implies that the condition number of the matrix gets very high and it is no more invertible. \n",
    "\\begin{bmatrix}\n",
    "x_0^n  & x_0^{n-1} & x_0^{n-2} & \\ldots & x_0 & 1 \\\\\n",
    "x_1^n  & x_1^{n-1} & x_1^{n-2} & \\ldots & x_1 & 1 \\\\\n",
    "\\vdots & \\vdots    & \\vdots    &        & \\vdots & \\vdots \\\\\n",
    "x_n^n  & x_n^{n-1} & x_n^{n-2} & \\ldots & x_n & 1\n",
    "\\end{bmatrix}\n",
    "\n",
    "\n",
    "So using monomials to do polynomial approximation in a machine is usually not a good thing.\n",
    "\n",
    "The solution is to change bases, and switch from $x^{(i)} \\rightarrow v_i$\n",
    "\n",
    "$p \\in \\mathbb{P}^n = span\\{\\bar{v}^i\\}_{i=0}^n\\iff p^i\\bar{v_i}$ and doing interpolation $B_{ij}p^j = f(x_i)$ where $p^jv_j(x_i) = f(x_i)$.\n",
    "\n",
    "We want to construct an identity matrix, instead of $\\mathbf{B}$. So we want $v_j(x_i) = \\delta _{ij} \\iff \\prod_{i \\ne j = 0} \\frac{x-x_j}{x_i-x_j} =: v_i(x)$.\n",
    "\n",
    "This is the Lagrange interpolation:\n",
    "\n",
    "$$\n",
    "\\mathscr{L}f = \\sum_{i = 0}^n f(x_i) \\bar{v_i} \\in \\mathbb{P}^n\n",
    "$$"
   ]
  },
  {
   "cell_type": "markdown",
   "metadata": {},
   "source": [
    "How good is this?\n",
    "\n",
    "We may want to compute $||\\mathscr{L} f - f||_{\\infty}$ . We may want to use polynomial expansion of $f$, but centered in what point? There sould be some random theorem which deals with this.\n",
    "\n",
    "The result says that $\\exists \\xi \\in I(x_0, x_n)$ s.t.:\n",
    "\n",
    "$$\n",
    "(\\mathscr{L}f - f)(x) = \\frac{1}{(n+1)!}f^{(n+1)}(\\xi)\\omega (x)\n",
    "$$\n",
    "\n",
    "where $\\omega(x) = \\prod_{i = 0}^n (x-x_i)$ is the *nodal polynomial*. The result can be extended for more dimensions."
   ]
  },
  {
   "cell_type": "markdown",
   "metadata": {},
   "source": []
  },
  {
   "cell_type": "code",
   "execution_count": null,
   "metadata": {},
   "outputs": [],
   "source": []
  }
 ],
 "metadata": {
  "kernelspec": {
   "display_name": "Python 3",
   "language": "python",
   "name": "python3"
  },
  "language_info": {
   "codemirror_mode": {
    "name": "ipython",
    "version": 3
   },
   "file_extension": ".py",
   "mimetype": "text/x-python",
   "name": "python",
   "nbconvert_exporter": "python",
   "pygments_lexer": "ipython3",
   "version": "3.7.0"
  }
 },
 "nbformat": 4,
 "nbformat_minor": 2
}
